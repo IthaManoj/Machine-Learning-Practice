{
 "cells": [
  {
   "cell_type": "markdown",
   "metadata": {},
   "source": [
    "Name: Itha Ram Sai Manoj\n",
    "    \n",
    "Roll No: E21007"
   ]
  },
  {
   "cell_type": "code",
   "execution_count": 2,
   "metadata": {},
   "outputs": [],
   "source": [
    "# Importing the required libraries\n",
    "\n",
    "import numpy as np\n",
    "import pandas as pd\n",
    "import os"
   ]
  },
  {
   "cell_type": "markdown",
   "metadata": {},
   "source": [
    "**Importing the required functions**"
   ]
  },
  {
   "cell_type": "code",
   "execution_count": 3,
   "metadata": {},
   "outputs": [],
   "source": [
    "# For test-train splitting\n",
    "from sklearn.model_selection import train_test_split\n",
    "\n",
    "#For fitting classification tree\n",
    "from sklearn.tree import DecisionTreeClassifier\n",
    "\n",
    "#For fitting regression tree\n",
    "from sklearn.tree import DecisionTreeRegressor\n",
    "\n",
    "#To create a confusion matrix\n",
    "from sklearn.metrics import confusion_matrix\n",
    "\n",
    "#from sklearn import tree\n",
    "from sklearn import tree"
   ]
  },
  {
   "cell_type": "markdown",
   "metadata": {},
   "source": [
    "# Classification"
   ]
  },
  {
   "cell_type": "markdown",
   "metadata": {},
   "source": [
    "### Data"
   ]
  },
  {
   "cell_type": "code",
   "execution_count": 7,
   "metadata": {},
   "outputs": [
    {
     "data": {
      "text/html": [
       "<div>\n",
       "<style scoped>\n",
       "    .dataframe tbody tr th:only-of-type {\n",
       "        vertical-align: middle;\n",
       "    }\n",
       "\n",
       "    .dataframe tbody tr th {\n",
       "        vertical-align: top;\n",
       "    }\n",
       "\n",
       "    .dataframe thead th {\n",
       "        text-align: right;\n",
       "    }\n",
       "</style>\n",
       "<table border=\"1\" class=\"dataframe\">\n",
       "  <thead>\n",
       "    <tr style=\"text-align: right;\">\n",
       "      <th></th>\n",
       "      <th>sepal_length</th>\n",
       "      <th>sepal_width</th>\n",
       "      <th>petal_length</th>\n",
       "      <th>petal_width</th>\n",
       "      <th>species</th>\n",
       "    </tr>\n",
       "  </thead>\n",
       "  <tbody>\n",
       "    <tr>\n",
       "      <th>0</th>\n",
       "      <td>5.1</td>\n",
       "      <td>3.5</td>\n",
       "      <td>1.4</td>\n",
       "      <td>0.2</td>\n",
       "      <td>Iris-setosa</td>\n",
       "    </tr>\n",
       "    <tr>\n",
       "      <th>1</th>\n",
       "      <td>4.9</td>\n",
       "      <td>3.0</td>\n",
       "      <td>1.4</td>\n",
       "      <td>0.2</td>\n",
       "      <td>Iris-setosa</td>\n",
       "    </tr>\n",
       "    <tr>\n",
       "      <th>2</th>\n",
       "      <td>4.7</td>\n",
       "      <td>3.2</td>\n",
       "      <td>1.3</td>\n",
       "      <td>0.2</td>\n",
       "      <td>Iris-setosa</td>\n",
       "    </tr>\n",
       "    <tr>\n",
       "      <th>3</th>\n",
       "      <td>4.6</td>\n",
       "      <td>3.1</td>\n",
       "      <td>1.5</td>\n",
       "      <td>0.2</td>\n",
       "      <td>Iris-setosa</td>\n",
       "    </tr>\n",
       "    <tr>\n",
       "      <th>4</th>\n",
       "      <td>5.0</td>\n",
       "      <td>3.6</td>\n",
       "      <td>1.4</td>\n",
       "      <td>0.2</td>\n",
       "      <td>Iris-setosa</td>\n",
       "    </tr>\n",
       "    <tr>\n",
       "      <th>...</th>\n",
       "      <td>...</td>\n",
       "      <td>...</td>\n",
       "      <td>...</td>\n",
       "      <td>...</td>\n",
       "      <td>...</td>\n",
       "    </tr>\n",
       "    <tr>\n",
       "      <th>145</th>\n",
       "      <td>6.7</td>\n",
       "      <td>3.0</td>\n",
       "      <td>5.2</td>\n",
       "      <td>2.3</td>\n",
       "      <td>Iris-virginica</td>\n",
       "    </tr>\n",
       "    <tr>\n",
       "      <th>146</th>\n",
       "      <td>6.3</td>\n",
       "      <td>2.5</td>\n",
       "      <td>5.0</td>\n",
       "      <td>1.9</td>\n",
       "      <td>Iris-virginica</td>\n",
       "    </tr>\n",
       "    <tr>\n",
       "      <th>147</th>\n",
       "      <td>6.5</td>\n",
       "      <td>3.0</td>\n",
       "      <td>5.2</td>\n",
       "      <td>2.0</td>\n",
       "      <td>Iris-virginica</td>\n",
       "    </tr>\n",
       "    <tr>\n",
       "      <th>148</th>\n",
       "      <td>6.2</td>\n",
       "      <td>3.4</td>\n",
       "      <td>5.4</td>\n",
       "      <td>2.3</td>\n",
       "      <td>Iris-virginica</td>\n",
       "    </tr>\n",
       "    <tr>\n",
       "      <th>149</th>\n",
       "      <td>5.9</td>\n",
       "      <td>3.0</td>\n",
       "      <td>5.1</td>\n",
       "      <td>1.8</td>\n",
       "      <td>Iris-virginica</td>\n",
       "    </tr>\n",
       "  </tbody>\n",
       "</table>\n",
       "<p>150 rows × 5 columns</p>\n",
       "</div>"
      ],
      "text/plain": [
       "     sepal_length  sepal_width  petal_length  petal_width         species\n",
       "0             5.1          3.5           1.4          0.2     Iris-setosa\n",
       "1             4.9          3.0           1.4          0.2     Iris-setosa\n",
       "2             4.7          3.2           1.3          0.2     Iris-setosa\n",
       "3             4.6          3.1           1.5          0.2     Iris-setosa\n",
       "4             5.0          3.6           1.4          0.2     Iris-setosa\n",
       "..            ...          ...           ...          ...             ...\n",
       "145           6.7          3.0           5.2          2.3  Iris-virginica\n",
       "146           6.3          2.5           5.0          1.9  Iris-virginica\n",
       "147           6.5          3.0           5.2          2.0  Iris-virginica\n",
       "148           6.2          3.4           5.4          2.3  Iris-virginica\n",
       "149           5.9          3.0           5.1          1.8  Iris-virginica\n",
       "\n",
       "[150 rows x 5 columns]"
      ]
     },
     "execution_count": 7,
     "metadata": {},
     "output_type": "execute_result"
    }
   ],
   "source": [
    "#Reading the file from the specified folder\n",
    "\n",
    "os.chdir('C:\\\\Users\\\\Manoj\\\\IML')\n",
    "iris = pd.read_csv('IRIS.csv')\n",
    "iris"
   ]
  },
  {
   "cell_type": "markdown",
   "metadata": {},
   "source": [
    "### Seperating the Target and Predictors"
   ]
  },
  {
   "cell_type": "code",
   "execution_count": 8,
   "metadata": {},
   "outputs": [],
   "source": [
    "X = iris[['sepal_length', 'sepal_width', 'petal_length', 'petal_width']]\n",
    "y = iris[['species']]"
   ]
  },
  {
   "cell_type": "markdown",
   "metadata": {},
   "source": [
    "### Train-Test Split(Stratified Sampling of Y)"
   ]
  },
  {
   "cell_type": "code",
   "execution_count": 9,
   "metadata": {},
   "outputs": [],
   "source": [
    "# Stratify is to divide in homogenous\n",
    "\n",
    "(X_Train, X_Test, y_Train, y_Test) = train_test_split(X, y, test_size = 0.3, stratify = y, random_state = 100)"
   ]
  },
  {
   "cell_type": "code",
   "execution_count": 10,
   "metadata": {},
   "outputs": [],
   "source": [
    "(X_Train, X_valid, y_Train, y_valid) = train_test_split(X_Train, y_Train, test_size = 0.3, stratify = y_Train, random_state = 100)"
   ]
  },
  {
   "cell_type": "code",
   "execution_count": 11,
   "metadata": {},
   "outputs": [
    {
     "data": {
      "text/plain": [
       "Iris-versicolor    0.342466\n",
       "Iris-setosa        0.328767\n",
       "Iris-virginica     0.328767\n",
       "Name: species, dtype: float64"
      ]
     },
     "execution_count": 11,
     "metadata": {},
     "output_type": "execute_result"
    }
   ],
   "source": [
    "y_Train.species.value_counts()/len(y_Train)"
   ]
  },
  {
   "cell_type": "code",
   "execution_count": 12,
   "metadata": {},
   "outputs": [
    {
     "data": {
      "text/plain": [
       "Iris-versicolor    0.333333\n",
       "Iris-setosa        0.333333\n",
       "Iris-virginica     0.333333\n",
       "Name: species, dtype: float64"
      ]
     },
     "execution_count": 12,
     "metadata": {},
     "output_type": "execute_result"
    }
   ],
   "source": [
    "y_Test.species.value_counts()/len(y_Test)"
   ]
  },
  {
   "cell_type": "markdown",
   "metadata": {},
   "source": [
    "### Decision Tree Classifier with criterion gini index"
   ]
  },
  {
   "cell_type": "code",
   "execution_count": 13,
   "metadata": {},
   "outputs": [],
   "source": [
    "clf_gini = DecisionTreeClassifier(criterion = 'gini', random_state = 100, max_depth = 3, min_samples_leaf = 5)\n",
    "clf_gini = clf_gini.fit(X_Train, y_Train)\n",
    "#clf_gini"
   ]
  },
  {
   "cell_type": "code",
   "execution_count": 21,
   "metadata": {},
   "outputs": [
    {
     "data": {
      "text/plain": [
       "[Text(125.55000000000001, 190.26, 'X[2] <= 2.5\\ngini = 0.667\\nsamples = 73\\nvalue = [24, 25, 24]'),\n",
       " Text(83.7, 135.9, 'gini = 0.0\\nsamples = 24\\nvalue = [24, 0, 0]'),\n",
       " Text(167.4, 135.9, 'X[3] <= 1.65\\ngini = 0.5\\nsamples = 49\\nvalue = [0, 25, 24]'),\n",
       " Text(83.7, 81.53999999999999, 'X[0] <= 6.6\\ngini = 0.08\\nsamples = 24\\nvalue = [0, 23, 1]'),\n",
       " Text(41.85, 27.180000000000007, 'gini = 0.0\\nsamples = 19\\nvalue = [0, 19, 0]'),\n",
       " Text(125.55000000000001, 27.180000000000007, 'gini = 0.32\\nsamples = 5\\nvalue = [0, 4, 1]'),\n",
       " Text(251.10000000000002, 81.53999999999999, 'X[2] <= 5.05\\ngini = 0.147\\nsamples = 25\\nvalue = [0, 2, 23]'),\n",
       " Text(209.25, 27.180000000000007, 'gini = 0.408\\nsamples = 7\\nvalue = [0, 2, 5]'),\n",
       " Text(292.95, 27.180000000000007, 'gini = 0.0\\nsamples = 18\\nvalue = [0, 0, 18]')]"
      ]
     },
     "execution_count": 21,
     "metadata": {},
     "output_type": "execute_result"
    },
    {
     "data": {
      "image/png": "[encoded data removed]",
      "text/plain": [
       "<Figure size 432x288 with 1 Axes>"
      ]
     },
     "metadata": {
      "needs_background": "light"
     },
     "output_type": "display_data"
    }
   ],
   "source": [
    "#Home Work:\n",
    "\n",
    "#Figure out how to plot a decision tree algorithm in python\n",
    "\n",
    "tree.plot_tree(clf_gini, filled = 'True', fontsize = 7)"
   ]
  },
  {
   "cell_type": "code",
   "execution_count": null,
   "metadata": {},
   "outputs": [],
   "source": [
    "#Decision Tree\n",
    "\n",
    "DecisionTree(class_weight = None, criterion = 'gini', max_depth = 3, max_features = None, max_leaf_nodes = None,\n",
    "            min_samples_leaf = 5, min_samples_split = 2, min_weight_fraction_leaf = 0.0,\n",
    "            )"
   ]
  },
  {
   "cell_type": "markdown",
   "metadata": {},
   "source": [
    "### Classifying new Observations"
   ]
  },
  {
   "cell_type": "code",
   "execution_count": 12,
   "metadata": {},
   "outputs": [
    {
     "data": {
      "text/plain": [
       "array(['Iris-setosa', 'Iris-versicolor', 'Iris-virginica',\n",
       "       'Iris-versicolor', 'Iris-virginica', 'Iris-setosa',\n",
       "       'Iris-versicolor', 'Iris-setosa', 'Iris-setosa', 'Iris-setosa',\n",
       "       'Iris-versicolor', 'Iris-versicolor', 'Iris-versicolor',\n",
       "       'Iris-setosa', 'Iris-versicolor', 'Iris-virginica',\n",
       "       'Iris-virginica', 'Iris-virginica', 'Iris-versicolor',\n",
       "       'Iris-versicolor', 'Iris-virginica', 'Iris-versicolor',\n",
       "       'Iris-versicolor', 'Iris-virginica', 'Iris-versicolor',\n",
       "       'Iris-setosa', 'Iris-versicolor', 'Iris-versicolor', 'Iris-setosa',\n",
       "       'Iris-virginica', 'Iris-virginica', 'Iris-virginica',\n",
       "       'Iris-versicolor', 'Iris-setosa', 'Iris-versicolor',\n",
       "       'Iris-virginica', 'Iris-setosa', 'Iris-setosa', 'Iris-setosa',\n",
       "       'Iris-versicolor', 'Iris-setosa', 'Iris-setosa', 'Iris-setosa',\n",
       "       'Iris-versicolor', 'Iris-virginica'], dtype=object)"
      ]
     },
     "execution_count": 12,
     "metadata": {},
     "output_type": "execute_result"
    }
   ],
   "source": [
    "#Making Predictions\n",
    "y_pred = clf_gini.predict(X_Test)\n",
    "y_pred"
   ]
  },
  {
   "cell_type": "markdown",
   "metadata": {},
   "source": [
    "# Regression Tree"
   ]
  },
  {
   "cell_type": "code",
   "execution_count": 23,
   "metadata": {},
   "outputs": [],
   "source": [
    "cars = pd.read_csv('cars.csv')"
   ]
  },
  {
   "cell_type": "code",
   "execution_count": 24,
   "metadata": {},
   "outputs": [],
   "source": [
    "X = cars[['Cylinders', 'Weight', 'Horsepower']]\n",
    "y = cars[['MPG']]"
   ]
  },
  {
   "cell_type": "code",
   "execution_count": 25,
   "metadata": {},
   "outputs": [],
   "source": [
    "X_Train, X_Test, y_Train, y_Test = train_test_split(X, y, test_size = 0.3, random_state = 100)"
   ]
  },
  {
   "cell_type": "code",
   "execution_count": 26,
   "metadata": {},
   "outputs": [],
   "source": [
    "model = DecisionTreeRegressor(max_depth = 3, min_samples_leaf = 5)\n",
    "model = model.fit(X_Train, y_Train)"
   ]
  },
  {
   "cell_type": "code",
   "execution_count": 30,
   "metadata": {},
   "outputs": [
    {
     "data": {
      "text/plain": [
       "[Text(167.4, 190.26, 'X[1] <= 2764.5\\nmse = 77.321\\nsamples = 284\\nvalue = 23.076'),\n",
       " Text(83.7, 135.9, 'X[1] <= 2217.0\\nmse = 40.042\\nsamples = 139\\nvalue = 29.504'),\n",
       " Text(41.85, 81.53999999999999, 'X[2] <= 79.0\\nmse = 42.01\\nsamples = 69\\nvalue = 32.378'),\n",
       " Text(20.925, 27.180000000000007, 'mse = 44.586\\nsamples = 60\\nvalue = 32.898'),\n",
       " Text(62.775000000000006, 27.180000000000007, 'mse = 11.008\\nsamples = 9\\nvalue = 28.911'),\n",
       " Text(125.55000000000001, 81.53999999999999, 'X[2] <= 84.5\\nmse = 21.935\\nsamples = 70\\nvalue = 26.671'),\n",
       " Text(104.625, 27.180000000000007, 'mse = 23.027\\nsamples = 28\\nvalue = 28.511'),\n",
       " Text(146.475, 27.180000000000007, 'mse = 17.448\\nsamples = 42\\nvalue = 25.445'),\n",
       " Text(251.10000000000002, 135.9, 'X[2] <= 129.5\\nmse = 35.481\\nsamples = 145\\nvalue = 16.914'),\n",
       " Text(209.25, 81.53999999999999, 'X[2] <= 86.5\\nmse = 29.936\\nsamples = 73\\nvalue = 20.227'),\n",
       " Text(188.32500000000002, 27.180000000000007, 'mse = 45.739\\nsamples = 11\\nvalue = 25.745'),\n",
       " Text(230.175, 27.180000000000007, 'mse = 20.771\\nsamples = 62\\nvalue = 19.248'),\n",
       " Text(292.95, 81.53999999999999, 'X[2] <= 151.5\\nmse = 18.693\\nsamples = 72\\nvalue = 13.556'),\n",
       " Text(272.02500000000003, 27.180000000000007, 'mse = 9.945\\nsamples = 39\\nvalue = 15.126'),\n",
       " Text(313.875, 27.180000000000007, 'mse = 22.675\\nsamples = 33\\nvalue = 11.7')]"
      ]
     },
     "execution_count": 30,
     "metadata": {},
     "output_type": "execute_result"
    },
    {
     "data": {
      "image/png": "[encoded data removed]",
      "text/plain": [
       "<Figure size 432x288 with 1 Axes>"
      ]
     },
     "metadata": {
      "needs_background": "light"
     },
     "output_type": "display_data"
    }
   ],
   "source": [
    "tree.plot_tree(model, filled = 'True', fontsize = 7)"
   ]
  },
  {
   "cell_type": "code",
   "execution_count": 20,
   "metadata": {},
   "outputs": [
    {
     "data": {
      "text/plain": [
       "array([19.2483871 , 32.89833333, 25.4452381 , 25.4452381 , 25.74545455,\n",
       "       25.4452381 , 19.2483871 , 25.4452381 , 19.2483871 , 25.4452381 ,\n",
       "       32.89833333, 11.7       , 11.7       , 32.89833333, 25.4452381 ,\n",
       "       25.4452381 , 28.51071429, 19.2483871 , 25.74545455, 25.4452381 ,\n",
       "       25.4452381 , 25.4452381 , 25.4452381 , 28.51071429, 19.2483871 ,\n",
       "       15.12564103, 19.2483871 , 19.2483871 , 25.4452381 , 32.89833333,\n",
       "       19.2483871 , 19.2483871 , 25.74545455, 32.89833333, 15.12564103,\n",
       "       32.89833333, 19.2483871 , 25.4452381 , 19.2483871 , 11.7       ,\n",
       "       25.74545455, 32.89833333, 19.2483871 , 19.2483871 , 32.89833333,\n",
       "       25.4452381 , 15.12564103, 32.89833333, 25.4452381 , 19.2483871 ,\n",
       "       32.89833333, 28.91111111, 25.74545455, 11.7       , 11.7       ,\n",
       "       19.2483871 , 11.7       , 32.89833333, 19.2483871 , 15.12564103,\n",
       "       19.2483871 , 19.2483871 , 32.89833333, 19.2483871 , 19.2483871 ,\n",
       "       25.4452381 , 32.89833333, 32.89833333, 32.89833333, 32.89833333,\n",
       "       32.89833333, 19.2483871 , 15.12564103, 19.2483871 , 25.4452381 ,\n",
       "       32.89833333, 11.7       , 25.74545455, 15.12564103, 32.89833333,\n",
       "       19.2483871 , 25.74545455, 28.91111111, 11.7       , 25.4452381 ,\n",
       "       32.89833333, 11.7       , 11.7       , 25.74545455, 11.7       ,\n",
       "       11.7       , 28.51071429, 11.7       , 19.2483871 , 25.4452381 ,\n",
       "       32.89833333, 19.2483871 , 15.12564103, 15.12564103, 28.51071429,\n",
       "       32.89833333, 32.89833333, 15.12564103, 28.91111111, 11.7       ,\n",
       "       15.12564103, 15.12564103, 25.4452381 , 19.2483871 , 32.89833333,\n",
       "       15.12564103, 25.4452381 , 11.7       , 25.74545455, 11.7       ,\n",
       "       28.51071429, 32.89833333, 19.2483871 , 28.51071429, 28.51071429,\n",
       "       15.12564103, 19.2483871 ])"
      ]
     },
     "execution_count": 20,
     "metadata": {},
     "output_type": "execute_result"
    }
   ],
   "source": [
    "y_pred = model.predict(X_Test)\n",
    "y_pred"
   ]
  },
  {
   "cell_type": "code",
   "execution_count": 22,
   "metadata": {},
   "outputs": [
    {
     "data": {
      "text/plain": [
       "10.255870838812472"
      ]
     },
     "execution_count": 22,
     "metadata": {},
     "output_type": "execute_result"
    }
   ],
   "source": [
    "#Root Mean Square Error\n",
    "\n",
    "np.sqrt(np.mean((np.array(y_Test) - y_pred) ** 2))"
   ]
  },
  {
   "cell_type": "markdown",
   "metadata": {},
   "source": [
    "**We should consider those values which are lesser than the Root Mean Sqaure Error Value**"
   ]
  }
 ],
 "metadata": {
  "kernelspec": {
   "display_name": "Python 3",
   "language": "python",
   "name": "python3"
  },
  "language_info": {
   "codemirror_mode": {
    "name": "ipython",
    "version": 3
   },
   "file_extension": ".py",
   "mimetype": "text/x-python",
   "name": "python",
   "nbconvert_exporter": "python",
   "pygments_lexer": "ipython3",
   "version": "3.7.6"
  }
 },
 "nbformat": 4,
 "nbformat_minor": 4
}
